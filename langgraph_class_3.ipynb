{
 "cells": [
  {
   "cell_type": "code",
   "execution_count": 200,
   "id": "d39ce701",
   "metadata": {},
   "outputs": [
    {
     "name": "stdout",
     "output_type": "stream",
     "text": [
      "all ok\n"
     ]
    }
   ],
   "source": [
    "print(\"all ok\")"
   ]
  },
  {
   "cell_type": "code",
   "execution_count": 201,
   "id": "e8992eee",
   "metadata": {},
   "outputs": [],
   "source": [
    "from dotenv import load_dotenv\n",
    "load_dotenv()\n",
    "import os\n",
    "os.environ['GROQ_API_KEY'] = os.getenv(\"GROQ_API_KEY\")"
   ]
  },
  {
   "cell_type": "code",
   "execution_count": 202,
   "id": "6a4b2a73",
   "metadata": {},
   "outputs": [],
   "source": [
    "model=\"deepseek-r1-distill-llama-70b\""
   ]
  },
  {
   "cell_type": "markdown",
   "id": "b0eafda6",
   "metadata": {},
   "source": [
    "### Load the model"
   ]
  },
  {
   "cell_type": "code",
   "execution_count": null,
   "id": "280b33a5",
   "metadata": {},
   "outputs": [],
   "source": [
    "model=\"deepseek-r1-distill-llama-70b\"\n",
    "from langchain_groq import ChatGroq\n",
    "llm=ChatGroq(model_name=model)\n",
    "llm.invoke(\"hi\")"
   ]
  },
  {
   "cell_type": "code",
   "execution_count": 7,
   "id": "cebb4f9c",
   "metadata": {},
   "outputs": [],
   "source": [
    "llm=ChatGroq(model_name=model)"
   ]
  },
  {
   "cell_type": "code",
   "execution_count": 9,
   "id": "3305ace2",
   "metadata": {},
   "outputs": [
    {
     "data": {
      "text/plain": [
       "AIMessage(content='<think>\\n\\n</think>\\n\\nHello! How can I assist you today? 😊', additional_kwargs={}, response_metadata={'token_usage': {'completion_tokens': 16, 'prompt_tokens': 4, 'total_tokens': 20, 'completion_time': 0.087357086, 'prompt_time': 5.5279e-05, 'queue_time': 0.054406841000000004, 'total_time': 0.087412365}, 'model_name': 'deepseek-r1-distill-llama-70b', 'system_fingerprint': 'fp_1bbe7845ec', 'finish_reason': 'stop', 'logprobs': None}, id='run--2e7407f0-2868-4c12-a12b-47e7e15895d0-0', usage_metadata={'input_tokens': 4, 'output_tokens': 16, 'total_tokens': 20})"
      ]
     },
     "execution_count": 9,
     "metadata": {},
     "output_type": "execute_result"
    }
   ],
   "source": [
    "llm.invoke(\"hi\")"
   ]
  },
  {
   "cell_type": "code",
   "execution_count": 11,
   "id": "b78035fc",
   "metadata": {},
   "outputs": [
    {
     "name": "stdout",
     "output_type": "stream",
     "text": [
      "<think>\n",
      "\n",
      "</think>\n",
      "\n",
      "Hello! How can I assist you today? 😊\n"
     ]
    }
   ],
   "source": [
    "print(llm.invoke(\"hi\").content)"
   ]
  },
  {
   "cell_type": "code",
   "execution_count": 153,
   "id": "f457a8e1",
   "metadata": {},
   "outputs": [],
   "source": [
    "# import operator\n",
    "# from typing import List\n",
    "# from langgraph.graph.message import add_messages\n",
    "# from pydantic import BaseModel , Field\n",
    "# from typing import TypedDict, Annotated, Sequence\n",
    "# from langchain_core.messages import BaseMessage\n",
    "# from langchain_core.output_parsers import StrOutputParser\n",
    "# from langchain_core.prompts import ChatPromptTemplate, PromptTemplate\n",
    "\n",
    "from langchain_core.tools import tool\n",
    "from langchain_core.messages import HumanMessage, AIMessage\n",
    "from langgraph.graph import StateGraph,MessagesState,START,END\n",
    "from langgraph.prebuilt import ToolNode"
   ]
  },
  {
   "cell_type": "code",
   "execution_count": 85,
   "id": "6cd721a2",
   "metadata": {},
   "outputs": [],
   "source": [
    "def call_model(state: MessagesState):\n",
    "    messages = state['messages']\n",
    "    response = llm.invoke(messages)\n",
    "    return {\"messages\": [response]}"
   ]
  },
  {
   "cell_type": "code",
   "execution_count": 154,
   "id": "b42f0c9e",
   "metadata": {},
   "outputs": [],
   "source": [
    "# HumanMessage(\"hi how are you?\")"
   ]
  },
  {
   "cell_type": "code",
   "execution_count": 155,
   "id": "6cb3807f",
   "metadata": {},
   "outputs": [],
   "source": [
    "# HumanMessage([\"hi how are you?\"])"
   ]
  },
  {
   "cell_type": "markdown",
   "id": "b925060a",
   "metadata": {},
   "source": [
    "### this code is only for the testing"
   ]
  },
  {
   "cell_type": "code",
   "execution_count": 84,
   "id": "5961c4d7",
   "metadata": {},
   "outputs": [
    {
     "name": "stdout",
     "output_type": "stream",
     "text": [
      "this is my current message: content='hi hello how are you?' additional_kwargs={} response_metadata={}\n"
     ]
    }
   ],
   "source": [
    "\n",
    "state={\"messages\":[\"hi hello how are you?\"]}\n",
    "call_model(state)"
   ]
  },
  {
   "cell_type": "code",
   "execution_count": null,
   "id": "827f94e6",
   "metadata": {},
   "outputs": [],
   "source": [
    "from langchain_core.messages import AnyMessage\n",
    "class MessagesState(TypedDict):\n",
    "    messages: Annotated[list[AnyMessage], add_messages]\n",
    "\n",
    "\n",
    "class AgentState(TypedDict):\n",
    "    messages: Annotated[Sequence[BaseMessage], operator.add]"
   ]
  },
  {
   "cell_type": "markdown",
   "id": "485d7e24",
   "metadata": {},
   "source": [
    "## Design a simple workflow without tool calling/"
   ]
  },
  {
   "cell_type": "code",
   "execution_count": 156,
   "id": "82c153bb",
   "metadata": {},
   "outputs": [],
   "source": [
    "workflow=StateGraph(MessagesState)"
   ]
  },
  {
   "cell_type": "code",
   "execution_count": 157,
   "id": "2705aaad",
   "metadata": {},
   "outputs": [
    {
     "data": {
      "text/plain": [
       "<langgraph.graph.state.StateGraph at 0x20aa7315c00>"
      ]
     },
     "execution_count": 157,
     "metadata": {},
     "output_type": "execute_result"
    }
   ],
   "source": [
    "workflow.add_node(\"mybot\",call_model)"
   ]
  },
  {
   "cell_type": "code",
   "execution_count": 88,
   "id": "16ffd459",
   "metadata": {},
   "outputs": [
    {
     "data": {
      "text/plain": [
       "<langgraph.graph.state.StateGraph at 0x20aa717e500>"
      ]
     },
     "execution_count": 88,
     "metadata": {},
     "output_type": "execute_result"
    }
   ],
   "source": [
    "workflow.add_edge(START,\"mybot\")"
   ]
  },
  {
   "cell_type": "code",
   "execution_count": 89,
   "id": "dac798b7",
   "metadata": {},
   "outputs": [
    {
     "data": {
      "text/plain": [
       "<langgraph.graph.state.StateGraph at 0x20aa717e500>"
      ]
     },
     "execution_count": 89,
     "metadata": {},
     "output_type": "execute_result"
    }
   ],
   "source": [
    "workflow.add_edge(\"mybot\",END)"
   ]
  },
  {
   "cell_type": "code",
   "execution_count": 90,
   "id": "bed7c9dd",
   "metadata": {},
   "outputs": [],
   "source": [
    "app=workflow.compile()"
   ]
  },
  {
   "cell_type": "code",
   "execution_count": 91,
   "id": "e0f03670",
   "metadata": {},
   "outputs": [
    {
     "data": {
      "image/png": "[encoded data removed]",
      "text/plain": [
       "<IPython.core.display.Image object>"
      ]
     },
     "metadata": {},
     "output_type": "display_data"
    }
   ],
   "source": [
    "from IPython.display import Image, display\n",
    "display(Image(app.get_graph().draw_mermaid_png()))"
   ]
  },
  {
   "cell_type": "code",
   "execution_count": 92,
   "id": "488fde11",
   "metadata": {},
   "outputs": [],
   "source": [
    "input={\"messages\":[\"hi hello how are you?\"]}"
   ]
  },
  {
   "cell_type": "code",
   "execution_count": 93,
   "id": "3e74440c",
   "metadata": {},
   "outputs": [
    {
     "data": {
      "text/plain": [
       "{'messages': [HumanMessage(content='hi hello how are you?', additional_kwargs={}, response_metadata={}, id='877b56b0-acc1-4f71-81af-0835818bf1f9'),\n",
       "  AIMessage(content=\"<think>\\n\\n</think>\\n\\nHello! I'm just a virtual assistant, so I don't have feelings, but I'm here and ready to help you with whatever you need. How are you doing? 😊\", additional_kwargs={}, response_metadata={'token_usage': {'completion_tokens': 42, 'prompt_tokens': 9, 'total_tokens': 51, 'completion_time': 0.184463599, 'prompt_time': 0.000213596, 'queue_time': 0.053161349, 'total_time': 0.184677195}, 'model_name': 'deepseek-r1-distill-llama-70b', 'system_fingerprint': 'fp_1bbe7845ec', 'finish_reason': 'stop', 'logprobs': None}, id='run--138951e1-e20a-4640-af6f-b56404438f14-0', usage_metadata={'input_tokens': 9, 'output_tokens': 42, 'total_tokens': 51})]}"
      ]
     },
     "execution_count": 93,
     "metadata": {},
     "output_type": "execute_result"
    }
   ],
   "source": [
    "app.invoke(input)"
   ]
  },
  {
   "cell_type": "code",
   "execution_count": 94,
   "id": "2ec4f35f",
   "metadata": {},
   "outputs": [
    {
     "name": "stdout",
     "output_type": "stream",
     "text": [
      "Output from mybot Node\n",
      "_______\n",
      "{'messages': [AIMessage(content=\"<think>\\n\\n</think>\\n\\nHello! I'm just a virtual assistant, so I don't have feelings, but I'm here and ready to help you with whatever you need. How are you doing? 😊\", additional_kwargs={}, response_metadata={'token_usage': {'completion_tokens': 42, 'prompt_tokens': 9, 'total_tokens': 51, 'completion_time': 0.187418124, 'prompt_time': 0.000211927, 'queue_time': 0.053487063, 'total_time': 0.187630051}, 'model_name': 'deepseek-r1-distill-llama-70b', 'system_fingerprint': 'fp_1bbe7845ec', 'finish_reason': 'stop', 'logprobs': None}, id='run--eb76b092-eeb7-4986-9683-5349fa708176-0', usage_metadata={'input_tokens': 9, 'output_tokens': 42, 'total_tokens': 51})]}\n",
      "\n",
      "\n"
     ]
    }
   ],
   "source": [
    "for output in app.stream(input):\n",
    "    for key,value in output.items():\n",
    "        print(f\"Output from {key} Node\")\n",
    "        print(\"_______\")\n",
    "        print(value)\n",
    "        print(\"\\n\")"
   ]
  },
  {
   "cell_type": "markdown",
   "id": "3d83c3d2",
   "metadata": {},
   "source": [
    "### this is a workflow with tool calling"
   ]
  },
  {
   "cell_type": "code",
   "execution_count": 95,
   "id": "8058064e",
   "metadata": {},
   "outputs": [],
   "source": [
    "@tool\n",
    "def search(query:str):\n",
    "    \"\"\"this is my custom tool for searching a weather\"\"\"\n",
    "    if \"delhi\" in query.lower():\n",
    "        return \"the temp is 45 degree and sunny\"\n",
    "    return \"the temp is 25 degree and cloudy\""
   ]
  },
  {
   "cell_type": "markdown",
   "id": "6d332141",
   "metadata": {},
   "source": [
    "## testing a tool"
   ]
  },
  {
   "cell_type": "code",
   "execution_count": 96,
   "id": "2fff1868",
   "metadata": {},
   "outputs": [
    {
     "data": {
      "text/plain": [
       "'the temp is 25 degree and cloudy'"
      ]
     },
     "execution_count": 96,
     "metadata": {},
     "output_type": "execute_result"
    }
   ],
   "source": [
    "search.invoke(\"what is a tempurature in kashmir?\")"
   ]
  },
  {
   "cell_type": "code",
   "execution_count": 97,
   "id": "1f3d8cc9",
   "metadata": {},
   "outputs": [
    {
     "data": {
      "text/plain": [
       "'the temp is 45 degree and sunny'"
      ]
     },
     "execution_count": 97,
     "metadata": {},
     "output_type": "execute_result"
    }
   ],
   "source": [
    "search.invoke(\"what is a tempurature in delhi?\")"
   ]
  },
  {
   "cell_type": "code",
   "execution_count": 99,
   "id": "1338f5f1",
   "metadata": {},
   "outputs": [
    {
     "data": {
      "text/plain": [
       "StructuredTool(name='search', description='this is my custom tool for searching a weather', args_schema=<class 'langchain_core.utils.pydantic.search'>, func=<function search at 0x0000020AA714F760>)"
      ]
     },
     "execution_count": 99,
     "metadata": {},
     "output_type": "execute_result"
    }
   ],
   "source": [
    "search"
   ]
  },
  {
   "cell_type": "code",
   "execution_count": 106,
   "id": "f006519b",
   "metadata": {},
   "outputs": [
    {
     "data": {
      "text/plain": [
       "AIMessage(content='<think>\\n\\n</think>\\n\\nAs of my last update in July 2024, I cannot provide real-time weather information. However, Delhi typically experiences a hot and humid climate during the summer months (April to June), with temperatures often reaching 40°C (104°F) or higher. The monsoon season usually arrives in July, bringing heavy rainfall and relief from the heat. Winters in Delhi (December to February) are cool and can be quite foggy, with temperatures sometimes dropping to around 5°C (41°F). Spring (March to April) and autumn (September to November) are generally pleasant, with mild temperatures.\\n\\nFor the most accurate and up-to-date weather information, I recommend checking a reliable weather service or app.', additional_kwargs={}, response_metadata={'token_usage': {'completion_tokens': 148, 'prompt_tokens': 11, 'total_tokens': 159, 'completion_time': 0.538181818, 'prompt_time': 0.000276655, 'queue_time': 0.057447765, 'total_time': 0.538458473}, 'model_name': 'deepseek-r1-distill-llama-70b', 'system_fingerprint': 'fp_1bbe7845ec', 'finish_reason': 'stop', 'logprobs': None}, id='run--4131a00c-379e-428d-b3af-8c28a3763398-0', usage_metadata={'input_tokens': 11, 'output_tokens': 148, 'total_tokens': 159})"
      ]
     },
     "execution_count": 106,
     "metadata": {},
     "output_type": "execute_result"
    }
   ],
   "source": [
    "llm.invoke(\"what is a weather in delhi?\")"
   ]
  },
  {
   "cell_type": "markdown",
   "id": "c54c1034",
   "metadata": {},
   "source": [
    "### Binding a tool to the LLM\n",
    "\n",
    "### Special Note: use some good for agentic workflow since opensource model might not give you the correct output"
   ]
  },
  {
   "cell_type": "code",
   "execution_count": 158,
   "id": "d7a2f5d5",
   "metadata": {},
   "outputs": [],
   "source": [
    "tools=[search]"
   ]
  },
  {
   "cell_type": "code",
   "execution_count": 159,
   "id": "ed46d32f",
   "metadata": {},
   "outputs": [],
   "source": [
    "llm_with_tool=llm.bind_tools(tools)"
   ]
  },
  {
   "cell_type": "markdown",
   "id": "253e0a60",
   "metadata": {},
   "source": [
    "### testig my llm_with_tool"
   ]
  },
  {
   "cell_type": "code",
   "execution_count": 160,
   "id": "76796e5f",
   "metadata": {},
   "outputs": [],
   "source": [
    "response=llm_with_tool.invoke(\"what is a weather is delhi?\")"
   ]
  },
  {
   "cell_type": "code",
   "execution_count": 161,
   "id": "69ad79a3",
   "metadata": {},
   "outputs": [
    {
     "data": {
      "text/plain": [
       "AIMessage(content='', additional_kwargs={'tool_calls': [{'id': 'fkt7mnrrc', 'function': {'arguments': '{\"query\":\"weather in Delhi\"}', 'name': 'search'}, 'type': 'function'}]}, response_metadata={'token_usage': {'completion_tokens': 154, 'prompt_tokens': 133, 'total_tokens': 287, 'completion_time': 0.661548062, 'prompt_time': 0.008566271, 'queue_time': 0.054379952999999995, 'total_time': 0.670114333}, 'model_name': 'deepseek-r1-distill-llama-70b', 'system_fingerprint': 'fp_1bbe7845ec', 'finish_reason': 'tool_calls', 'logprobs': None}, id='run--ee88ad0a-579f-410f-85e3-69ec33e4a015-0', tool_calls=[{'name': 'search', 'args': {'query': 'weather in Delhi'}, 'id': 'fkt7mnrrc', 'type': 'tool_call'}], usage_metadata={'input_tokens': 133, 'output_tokens': 154, 'total_tokens': 287})"
      ]
     },
     "execution_count": 161,
     "metadata": {},
     "output_type": "execute_result"
    }
   ],
   "source": [
    "response"
   ]
  },
  {
   "cell_type": "code",
   "execution_count": 107,
   "id": "37319035",
   "metadata": {},
   "outputs": [
    {
     "data": {
      "text/plain": [
       "''"
      ]
     },
     "execution_count": 107,
     "metadata": {},
     "output_type": "execute_result"
    }
   ],
   "source": [
    "response.content"
   ]
  },
  {
   "cell_type": "code",
   "execution_count": 105,
   "id": "eca31a2f",
   "metadata": {},
   "outputs": [
    {
     "data": {
      "text/plain": [
       "[{'name': 'search',\n",
       "  'args': {'query': 'weather in Delhi'},\n",
       "  'id': 't33tessyq',\n",
       "  'type': 'tool_call'}]"
      ]
     },
     "execution_count": 105,
     "metadata": {},
     "output_type": "execute_result"
    }
   ],
   "source": [
    "response.tool_calls"
   ]
  },
  {
   "cell_type": "code",
   "execution_count": 142,
   "id": "4afb5f8f",
   "metadata": {},
   "outputs": [],
   "source": [
    "def call_model(state:MessagesState):\n",
    "    question=state[\"messages\"]\n",
    "    response=llm_with_tool.invoke(question)\n",
    "    return {\"messages\":[response]}"
   ]
  },
  {
   "cell_type": "markdown",
   "id": "0558693a",
   "metadata": {},
   "source": [
    "### Testing code"
   ]
  },
  {
   "cell_type": "code",
   "execution_count": 109,
   "id": "301d9821",
   "metadata": {},
   "outputs": [],
   "source": [
    "input={\"messages\":[\"what is a weather in delhi?\"]}"
   ]
  },
  {
   "cell_type": "code",
   "execution_count": 111,
   "id": "a14897ff",
   "metadata": {},
   "outputs": [],
   "source": [
    "response=call_model(input)"
   ]
  },
  {
   "cell_type": "code",
   "execution_count": 114,
   "id": "f1b3db7e",
   "metadata": {},
   "outputs": [
    {
     "data": {
      "text/plain": [
       "''"
      ]
     },
     "execution_count": 114,
     "metadata": {},
     "output_type": "execute_result"
    }
   ],
   "source": [
    "response[\"messages\"][-1].content"
   ]
  },
  {
   "cell_type": "code",
   "execution_count": 115,
   "id": "7b85e7ec",
   "metadata": {},
   "outputs": [
    {
     "data": {
      "text/plain": [
       "[{'name': 'search',\n",
       "  'args': {'query': 'weather in Delhi'},\n",
       "  'id': '5v4m56dw7',\n",
       "  'type': 'tool_call'}]"
      ]
     },
     "execution_count": 115,
     "metadata": {},
     "output_type": "execute_result"
    }
   ],
   "source": [
    "response[\"messages\"][-1].tool_calls"
   ]
  },
  {
   "cell_type": "markdown",
   "id": "d156c111",
   "metadata": {},
   "source": [
    "### here my router function\n",
    "\n",
    "#### now whatever will come from call_model router funtion will redirect this to the appropriate tool"
   ]
  },
  {
   "cell_type": "code",
   "execution_count": 162,
   "id": "c7d8ec53",
   "metadata": {},
   "outputs": [],
   "source": [
    "def router_function(state:MessagesState):\n",
    "    message=state[\"messages\"]\n",
    "    last_message=message[-1]\n",
    "    if last_message.tool_calls:\n",
    "        return \"tools\"\n",
    "    return END\n",
    "    "
   ]
  },
  {
   "cell_type": "code",
   "execution_count": 120,
   "id": "b1c12586",
   "metadata": {},
   "outputs": [
    {
     "data": {
      "text/plain": [
       "[StructuredTool(name='search', description='this is my custom tool for searching a weather', args_schema=<class 'langchain_core.utils.pydantic.search'>, func=<function search at 0x0000020AA714F760>)]"
      ]
     },
     "execution_count": 120,
     "metadata": {},
     "output_type": "execute_result"
    }
   ],
   "source": [
    "tools"
   ]
  },
  {
   "cell_type": "code",
   "execution_count": 144,
   "id": "868ca7e0",
   "metadata": {},
   "outputs": [],
   "source": [
    "\n",
    "tool_node=ToolNode(tools)"
   ]
  },
  {
   "cell_type": "code",
   "execution_count": 122,
   "id": "ea3ef8c2",
   "metadata": {},
   "outputs": [
    {
     "data": {
      "text/plain": [
       "tools(tags=None, recurse=True, explode_args=False, func_accepts_config=True, func_accepts={'store': ('__pregel_store', None)}, tools_by_name={'search': StructuredTool(name='search', description='this is my custom tool for searching a weather', args_schema=<class 'langchain_core.utils.pydantic.search'>, func=<function search at 0x0000020AA714F760>)}, tool_to_state_args={'search': {}}, tool_to_store_arg={'search': None}, handle_tool_errors=True, messages_key='messages')"
      ]
     },
     "execution_count": 122,
     "metadata": {},
     "output_type": "execute_result"
    }
   ],
   "source": [
    "tool_node"
   ]
  },
  {
   "cell_type": "code",
   "execution_count": 173,
   "id": "4fb880fd",
   "metadata": {},
   "outputs": [],
   "source": [
    "workflow2=StateGraph(MessagesState)"
   ]
  },
  {
   "cell_type": "code",
   "execution_count": null,
   "id": "8b4025d9",
   "metadata": {},
   "outputs": [
    {
     "data": {
      "text/plain": [
       "<langgraph.graph.state.StateGraph at 0x20aa7730b80>"
      ]
     },
     "execution_count": 175,
     "metadata": {},
     "output_type": "execute_result"
    }
   ],
   "source": [
    "workflow2.add_node(\"llmwithtool\",call_model)\n",
    "\n",
    "workflow2.add_node(\"mytools\",tool_node)\n",
    "\n",
    "workflow2.add_edge(START,\"llmwithtool\")\n",
    "\n",
    "workflow2.add_conditional_edges(\"llmwithtool\",\n",
    "                                router_function,\n",
    "                                {\"tools\":\"mytools\",\n",
    "                                 END:END})"
   ]
  },
  {
   "cell_type": "code",
   "execution_count": 148,
   "id": "c76410e6",
   "metadata": {},
   "outputs": [],
   "source": [
    "app2=workflow2.compile()"
   ]
  },
  {
   "cell_type": "code",
   "execution_count": 149,
   "id": "433259dd",
   "metadata": {},
   "outputs": [
    {
     "data": {
      "image/png": "[encoded data removed]",
      "text/plain": [
       "<IPython.core.display.Image object>"
      ]
     },
     "metadata": {},
     "output_type": "display_data"
    }
   ],
   "source": [
    "from IPython.display import Image, display\n",
    "display(Image(app2.get_graph().draw_mermaid_png()))"
   ]
  },
  {
   "cell_type": "code",
   "execution_count": 163,
   "id": "05a5af7b",
   "metadata": {},
   "outputs": [],
   "source": [
    "response=app2.invoke({\"messages\":[\"what is a weather in bengraluru?\"]})"
   ]
  },
  {
   "cell_type": "code",
   "execution_count": 166,
   "id": "fda5dc62",
   "metadata": {},
   "outputs": [
    {
     "data": {
      "text/plain": [
       "'the temp is 25 degree and cloudy'"
      ]
     },
     "execution_count": 166,
     "metadata": {},
     "output_type": "execute_result"
    }
   ],
   "source": [
    "response[\"messages\"][-1].content"
   ]
  },
  {
   "cell_type": "code",
   "execution_count": 151,
   "id": "c8a1f943",
   "metadata": {},
   "outputs": [
    {
     "data": {
      "text/plain": [
       "{'messages': [HumanMessage(content='what is a weather in delhi?', additional_kwargs={}, response_metadata={}, id='8b5a1806-00d3-49be-9490-7e56facc94e7'),\n",
       "  AIMessage(content='', additional_kwargs={'tool_calls': [{'id': 'sazacftqh', 'function': {'arguments': '{\"query\":\"weather in Delhi\"}', 'name': 'search'}, 'type': 'function'}]}, response_metadata={'token_usage': {'completion_tokens': 146, 'prompt_tokens': 133, 'total_tokens': 279, 'completion_time': 0.636653882, 'prompt_time': 0.0085616, 'queue_time': 0.06742128, 'total_time': 0.645215482}, 'model_name': 'deepseek-r1-distill-llama-70b', 'system_fingerprint': 'fp_1bbe7845ec', 'finish_reason': 'tool_calls', 'logprobs': None}, id='run--e8760b2f-4a59-40c8-a1a7-f010181d899b-0', tool_calls=[{'name': 'search', 'args': {'query': 'weather in Delhi'}, 'id': 'sazacftqh', 'type': 'tool_call'}], usage_metadata={'input_tokens': 133, 'output_tokens': 146, 'total_tokens': 279}),\n",
       "  ToolMessage(content='the temp is 45 degree and sunny', name='search', id='deb2b870-c22e-460f-a91b-e17d24fe0120', tool_call_id='sazacftqh')]}"
      ]
     },
     "execution_count": 151,
     "metadata": {},
     "output_type": "execute_result"
    }
   ],
   "source": [
    "app2.invoke({\"messages\":[\"what is a weather in delhi?\"]})"
   ]
  },
  {
   "cell_type": "markdown",
   "id": "21d500c1",
   "metadata": {},
   "source": [
    "### use good resoning based model"
   ]
  },
  {
   "cell_type": "code",
   "execution_count": 152,
   "id": "4a593ca6",
   "metadata": {},
   "outputs": [
    {
     "data": {
      "text/plain": [
       "{'messages': [HumanMessage(content='hi how are you?', additional_kwargs={}, response_metadata={}, id='78d29577-ed37-47a7-be3a-ddca23b3d080'),\n",
       "  AIMessage(content='', additional_kwargs={'tool_calls': [{'id': '2s9sy9ebc', 'function': {'arguments': '{\"query\":\"1234567890\"}', 'name': 'search'}, 'type': 'function'}]}, response_metadata={'token_usage': {'completion_tokens': 372, 'prompt_tokens': 130, 'total_tokens': 502, 'completion_time': 1.6485162519999998, 'prompt_time': 0.008328953, 'queue_time': 0.056921826999999994, 'total_time': 1.656845205}, 'model_name': 'deepseek-r1-distill-llama-70b', 'system_fingerprint': 'fp_1bbe7845ec', 'finish_reason': 'tool_calls', 'logprobs': None}, id='run--fc0aa82f-441e-4cc7-b020-8161c30b00f7-0', tool_calls=[{'name': 'search', 'args': {'query': '1234567890'}, 'id': '2s9sy9ebc', 'type': 'tool_call'}], usage_metadata={'input_tokens': 130, 'output_tokens': 372, 'total_tokens': 502}),\n",
       "  ToolMessage(content='the temp is 25 degree and cloudy', name='search', id='c809c5a5-4b68-4eb7-8905-b8fca6896a55', tool_call_id='2s9sy9ebc')]}"
      ]
     },
     "execution_count": 152,
     "metadata": {},
     "output_type": "execute_result"
    }
   ],
   "source": [
    "app2.invoke({\"messages\":[\"hi how are you?\"]})"
   ]
  },
  {
   "cell_type": "code",
   "execution_count": 176,
   "id": "3ace245c",
   "metadata": {},
   "outputs": [
    {
     "data": {
      "text/plain": [
       "<langgraph.graph.state.StateGraph at 0x20aa7730b80>"
      ]
     },
     "execution_count": 176,
     "metadata": {},
     "output_type": "execute_result"
    }
   ],
   "source": [
    "workflow2.add_edge(\"mytools\",\"llmwithtool\")"
   ]
  },
  {
   "cell_type": "code",
   "execution_count": 177,
   "id": "82591a82",
   "metadata": {},
   "outputs": [],
   "source": [
    "app3=workflow2.compile()"
   ]
  },
  {
   "cell_type": "code",
   "execution_count": 179,
   "id": "32144091",
   "metadata": {},
   "outputs": [
    {
     "data": {
      "image/png": "[encoded data removed]",
      "text/plain": [
       "<IPython.core.display.Image object>"
      ]
     },
     "metadata": {},
     "output_type": "display_data"
    }
   ],
   "source": [
    "from IPython.display import Image, display\n",
    "display(Image(app3.get_graph().draw_mermaid_png()))"
   ]
  },
  {
   "cell_type": "code",
   "execution_count": 180,
   "id": "858505f7",
   "metadata": {},
   "outputs": [
    {
     "name": "stdout",
     "output_type": "stream",
     "text": [
      "here is output from llmwithtool\n",
      "_______\n",
      "{'messages': [AIMessage(content='', additional_kwargs={'tool_calls': [{'id': 'm370p69r7', 'function': {'arguments': '{\"query\":\"New Delhi weather\"}', 'name': 'search'}, 'type': 'function'}]}, response_metadata={'token_usage': {'completion_tokens': 121, 'prompt_tokens': 134, 'total_tokens': 255, 'completion_time': 0.570589538, 'prompt_time': 0.010406995, 'queue_time': 0.053362169, 'total_time': 0.580996533}, 'model_name': 'deepseek-r1-distill-llama-70b', 'system_fingerprint': 'fp_1bbe7845ec', 'finish_reason': 'tool_calls', 'logprobs': None}, id='run--9a80691c-3b55-4e11-bd9f-dc4cc32b363a-0', tool_calls=[{'name': 'search', 'args': {'query': 'New Delhi weather'}, 'id': 'm370p69r7', 'type': 'tool_call'}], usage_metadata={'input_tokens': 134, 'output_tokens': 121, 'total_tokens': 255})]}\n",
      "\n",
      "\n",
      "here is output from mytools\n",
      "_______\n",
      "{'messages': [ToolMessage(content='the temp is 45 degree and sunny', name='search', id='970a3353-5364-40c4-b74e-14f0559ef73b', tool_call_id='m370p69r7')]}\n",
      "\n",
      "\n",
      "here is output from llmwithtool\n",
      "_______\n",
      "{'messages': [AIMessage(content='Good morning! 🌞 The weather in New Delhi is currently 45 degrees and sunny.', additional_kwargs={}, response_metadata={'token_usage': {'completion_tokens': 239, 'prompt_tokens': 192, 'total_tokens': 431, 'completion_time': 1.009744367, 'prompt_time': 0.011940886, 'queue_time': 0.057551014, 'total_time': 1.021685253}, 'model_name': 'deepseek-r1-distill-llama-70b', 'system_fingerprint': 'fp_1bbe7845ec', 'finish_reason': 'stop', 'logprobs': None}, id='run--cf3b01b3-0f90-4584-b9c1-19b0c90a09c4-0', usage_metadata={'input_tokens': 192, 'output_tokens': 239, 'total_tokens': 431})]}\n",
      "\n",
      "\n"
     ]
    }
   ],
   "source": [
    "for output in app3.stream({\"messages\":[\"what is a weather in new delhi?\"]}):\n",
    "    for key,value in output.items():\n",
    "        print(f\"here is output from {key}\")\n",
    "        print(\"_______\")\n",
    "        print(value)\n",
    "        print(\"\\n\")\n",
    "    "
   ]
  },
  {
   "cell_type": "code",
   "execution_count": null,
   "id": "e3f1b5c9",
   "metadata": {},
   "outputs": [],
   "source": [
    "\"what is a weather in delhi can you tell me some good hotel for staying in north delhi\""
   ]
  },
  {
   "cell_type": "code",
   "execution_count": 181,
   "id": "63f8398b",
   "metadata": {},
   "outputs": [],
   "source": [
    "from langgraph.checkpoint.memory import MemorySaver"
   ]
  },
  {
   "cell_type": "code",
   "execution_count": 182,
   "id": "44970651",
   "metadata": {},
   "outputs": [],
   "source": [
    "memory=MemorySaver()"
   ]
  },
  {
   "cell_type": "code",
   "execution_count": 183,
   "id": "2f842b10",
   "metadata": {},
   "outputs": [
    {
     "data": {
      "text/plain": [
       "<langgraph.graph.state.StateGraph at 0x20aa7466740>"
      ]
     },
     "execution_count": 183,
     "metadata": {},
     "output_type": "execute_result"
    }
   ],
   "source": [
    "workflow3=StateGraph(MessagesState)\n",
    "\n",
    "workflow3.add_node(\"llmwithtool\",call_model)\n",
    "\n",
    "workflow3.add_node(\"mytools\",tool_node)\n",
    "\n",
    "workflow3.add_edge(START,\"llmwithtool\")\n",
    "\n",
    "workflow3.add_conditional_edges(\"llmwithtool\",\n",
    "                                router_function,\n",
    "                                {\"tools\":\"mytools\",\n",
    "                                 END:END})\n",
    "\n",
    "workflow3.add_edge(\"mytools\",\"llmwithtool\")"
   ]
  },
  {
   "cell_type": "code",
   "execution_count": 184,
   "id": "f193b793",
   "metadata": {},
   "outputs": [],
   "source": [
    "app4=workflow3.compile(checkpointer=memory)"
   ]
  },
  {
   "cell_type": "code",
   "execution_count": 185,
   "id": "4c500b65",
   "metadata": {},
   "outputs": [
    {
     "data": {
      "image/png": "[encoded data removed]",
      "text/plain": [
       "<IPython.core.display.Image object>"
      ]
     },
     "metadata": {},
     "output_type": "display_data"
    }
   ],
   "source": [
    "from IPython.display import Image, display\n",
    "display(Image(app4.get_graph().draw_mermaid_png()))"
   ]
  },
  {
   "cell_type": "code",
   "execution_count": 187,
   "id": "17b132f5",
   "metadata": {},
   "outputs": [],
   "source": [
    "config={\"configurable\": {\"thread_id\": \"1\"}}"
   ]
  },
  {
   "cell_type": "code",
   "execution_count": 190,
   "id": "37b704fd",
   "metadata": {},
   "outputs": [],
   "source": [
    "events=app4.stream(\n",
    "    {\"messages\":[\"what is a weather in new delhi?\"]},config=config,stream_mode=\"values\"\n",
    "    )"
   ]
  },
  {
   "cell_type": "code",
   "execution_count": 191,
   "id": "0fdd14a4",
   "metadata": {},
   "outputs": [
    {
     "name": "stdout",
     "output_type": "stream",
     "text": [
      "================================\u001b[1m Human Message \u001b[0m=================================\n",
      "\n",
      "what is a weather in new delhi?\n",
      "==================================\u001b[1m Ai Message \u001b[0m==================================\n",
      "Tool Calls:\n",
      "  search (xjznn9vkf)\n",
      " Call ID: xjznn9vkf\n",
      "  Args:\n",
      "    query: weather in New Delhi\n",
      "=================================\u001b[1m Tool Message \u001b[0m=================================\n",
      "Name: search\n",
      "\n",
      "the temp is 45 degree and sunny\n",
      "==================================\u001b[1m Ai Message \u001b[0m==================================\n",
      "\n",
      "The weather in New Delhi is currently 45 degrees and sunny.\n"
     ]
    }
   ],
   "source": [
    "for event in events:\n",
    "    event[\"messages\"][-1].pretty_print()\n",
    "    "
   ]
  },
  {
   "cell_type": "code",
   "execution_count": 192,
   "id": "2738142c",
   "metadata": {},
   "outputs": [],
   "source": [
    "events=app4.stream(\n",
    "    {\"messages\":[\"what is a weather in indore?\"]},config=config,stream_mode=\"values\"\n",
    "    )"
   ]
  },
  {
   "cell_type": "code",
   "execution_count": 193,
   "id": "72809b70",
   "metadata": {},
   "outputs": [
    {
     "name": "stdout",
     "output_type": "stream",
     "text": [
      "================================\u001b[1m Human Message \u001b[0m=================================\n",
      "\n",
      "what is a weather in indore?\n",
      "==================================\u001b[1m Ai Message \u001b[0m==================================\n",
      "Tool Calls:\n",
      "  search (974yyz4yc)\n",
      " Call ID: 974yyz4yc\n",
      "  Args:\n",
      "    query: weather in Indore\n",
      "=================================\u001b[1m Tool Message \u001b[0m=================================\n",
      "Name: search\n",
      "\n",
      "the temp is 25 degree and cloudy\n",
      "==================================\u001b[1m Ai Message \u001b[0m==================================\n",
      "Tool Calls:\n",
      "  search (z98ty8y88)\n",
      " Call ID: z98ty8y88\n",
      "  Args:\n",
      "    query: weather in Indore\n",
      "=================================\u001b[1m Tool Message \u001b[0m=================================\n",
      "Name: search\n",
      "\n",
      "the temp is 25 degree and cloudy\n",
      "==================================\u001b[1m Ai Message \u001b[0m==================================\n",
      "Tool Calls:\n",
      "  search (cv0da6bnz)\n",
      " Call ID: cv0da6bnz\n",
      "  Args:\n",
      "    query: weather in Indore\n",
      "=================================\u001b[1m Tool Message \u001b[0m=================================\n",
      "Name: search\n",
      "\n",
      "the temp is 25 degree and cloudy\n",
      "==================================\u001b[1m Ai Message \u001b[0m==================================\n"
     ]
    }
   ],
   "source": [
    "for event in events:\n",
    "    event[\"messages\"][-1].pretty_print()"
   ]
  },
  {
   "cell_type": "code",
   "execution_count": 195,
   "id": "1bdc1865",
   "metadata": {},
   "outputs": [
    {
     "data": {
      "text/plain": [
       "{'configurable': {'thread_id': '1'}}"
      ]
     },
     "execution_count": 195,
     "metadata": {},
     "output_type": "execute_result"
    }
   ],
   "source": [
    "config"
   ]
  },
  {
   "cell_type": "code",
   "execution_count": 196,
   "id": "b76be85b",
   "metadata": {},
   "outputs": [
    {
     "data": {
      "text/plain": [
       "{'v': 3,\n",
       " 'ts': '2025-06-14T05:39:36.437057+00:00',\n",
       " 'id': '1f048e1f-5098-6c90-800c-546d9dcac742',\n",
       " 'channel_versions': {'__start__': '00000000000000000000000000000007.0.9999317854783963',\n",
       "  'messages': '00000000000000000000000000000014.0.05050170024719669',\n",
       "  'branch:to:llmwithtool': '00000000000000000000000000000014.0.8950158264402875',\n",
       "  'branch:to:mytools': '00000000000000000000000000000013.0.9761122505314639'},\n",
       " 'versions_seen': {'__input__': {},\n",
       "  '__start__': {'__start__': '00000000000000000000000000000006.0.1517309311235916'},\n",
       "  'llmwithtool': {'branch:to:llmwithtool': '00000000000000000000000000000013.0.778145138763228'},\n",
       "  'mytools': {'branch:to:mytools': '00000000000000000000000000000012.0.7239732522974757'}},\n",
       " 'channel_values': {'messages': [HumanMessage(content='what is a weather in new delhi?', additional_kwargs={}, response_metadata={}, id='e4d2735a-46f0-46c0-b33f-81d443eb29ff'),\n",
       "   AIMessage(content='', additional_kwargs={'tool_calls': [{'id': 'xjznn9vkf', 'function': {'arguments': '{\"query\":\"weather in New Delhi\"}', 'name': 'search'}, 'type': 'function'}]}, response_metadata={'token_usage': {'completion_tokens': 216, 'prompt_tokens': 134, 'total_tokens': 350, 'completion_time': 0.855256316, 'prompt_time': 0.008550172, 'queue_time': 0.056179082, 'total_time': 0.863806488}, 'model_name': 'deepseek-r1-distill-llama-70b', 'system_fingerprint': 'fp_1bbe7845ec', 'finish_reason': 'tool_calls', 'logprobs': None}, id='run--b547822e-ca01-445b-b7a2-b0b0c01425bf-0', tool_calls=[{'name': 'search', 'args': {'query': 'weather in New Delhi'}, 'id': 'xjznn9vkf', 'type': 'tool_call'}], usage_metadata={'input_tokens': 134, 'output_tokens': 216, 'total_tokens': 350}),\n",
       "   ToolMessage(content='the temp is 45 degree and sunny', name='search', id='95aaf2a4-7f28-4815-a28c-93598ab4579e', tool_call_id='xjznn9vkf'),\n",
       "   AIMessage(content='The weather in New Delhi is currently 45 degrees and sunny.', additional_kwargs={}, response_metadata={'token_usage': {'completion_tokens': 155, 'prompt_tokens': 194, 'total_tokens': 349, 'completion_time': 0.723916291, 'prompt_time': 0.011962524, 'queue_time': 0.054293826, 'total_time': 0.735878815}, 'model_name': 'deepseek-r1-distill-llama-70b', 'system_fingerprint': 'fp_1bbe7845ec', 'finish_reason': 'stop', 'logprobs': None}, id='run--693112f5-17e1-4754-a460-0678515c7532-0', usage_metadata={'input_tokens': 194, 'output_tokens': 155, 'total_tokens': 349}),\n",
       "   HumanMessage(content='what is a weather in indore?', additional_kwargs={}, response_metadata={}, id='414adb94-e58c-4925-a0ee-a02f0906c905'),\n",
       "   AIMessage(content='', additional_kwargs={'tool_calls': [{'id': '974yyz4yc', 'function': {'arguments': '{\"query\":\"weather in Indore\"}', 'name': 'search'}, 'type': 'function'}]}, response_metadata={'token_usage': {'completion_tokens': 199, 'prompt_tokens': 205, 'total_tokens': 404, 'completion_time': 1.05966076, 'prompt_time': 0.0201019, 'queue_time': 0.053634453000000006, 'total_time': 1.07976266}, 'model_name': 'deepseek-r1-distill-llama-70b', 'system_fingerprint': 'fp_1bbe7845ec', 'finish_reason': 'tool_calls', 'logprobs': None}, id='run--3abf5e8c-f3c7-4671-8c3d-755ea24eb10a-0', tool_calls=[{'name': 'search', 'args': {'query': 'weather in Indore'}, 'id': '974yyz4yc', 'type': 'tool_call'}], usage_metadata={'input_tokens': 205, 'output_tokens': 199, 'total_tokens': 404}),\n",
       "   ToolMessage(content='the temp is 25 degree and cloudy', name='search', id='67f89a12-5019-4d07-b44c-94faa5789636', tool_call_id='974yyz4yc'),\n",
       "   AIMessage(content='', additional_kwargs={'tool_calls': [{'id': 'z98ty8y88', 'function': {'arguments': '{\"query\":\"weather in Indore\"}', 'name': 'search'}, 'type': 'function'}]}, response_metadata={'token_usage': {'completion_tokens': 252, 'prompt_tokens': 263, 'total_tokens': 515, 'completion_time': 1.150754721, 'prompt_time': 0.023398012, 'queue_time': 0.05660427, 'total_time': 1.1741527330000001}, 'model_name': 'deepseek-r1-distill-llama-70b', 'system_fingerprint': 'fp_1bbe7845ec', 'finish_reason': 'tool_calls', 'logprobs': None}, id='run--0ce62b63-2c88-43de-9855-6a28f8464a5b-0', tool_calls=[{'name': 'search', 'args': {'query': 'weather in Indore'}, 'id': 'z98ty8y88', 'type': 'tool_call'}], usage_metadata={'input_tokens': 263, 'output_tokens': 252, 'total_tokens': 515}),\n",
       "   ToolMessage(content='the temp is 25 degree and cloudy', name='search', id='57539ac3-9682-4275-a990-8ba45feb5a58', tool_call_id='z98ty8y88'),\n",
       "   AIMessage(content='', additional_kwargs={'tool_calls': [{'id': 'cv0da6bnz', 'function': {'arguments': '{\"query\":\"weather in Indore\"}', 'name': 'search'}, 'type': 'function'}]}, response_metadata={'token_usage': {'completion_tokens': 215, 'prompt_tokens': 322, 'total_tokens': 537, 'completion_time': 0.883681944, 'prompt_time': 0.020288997, 'queue_time': 0.05629224599999999, 'total_time': 0.903970941}, 'model_name': 'deepseek-r1-distill-llama-70b', 'system_fingerprint': 'fp_1bbe7845ec', 'finish_reason': 'tool_calls', 'logprobs': None}, id='run--1e8ef6c5-44f3-4ce0-82fb-e68e1fd8d50f-0', tool_calls=[{'name': 'search', 'args': {'query': 'weather in Indore'}, 'id': 'cv0da6bnz', 'type': 'tool_call'}], usage_metadata={'input_tokens': 322, 'output_tokens': 215, 'total_tokens': 537}),\n",
       "   ToolMessage(content='the temp is 25 degree and cloudy', name='search', id='8cef00de-7209-4a37-8652-76d96c27d899', tool_call_id='cv0da6bnz'),\n",
       "   AIMessage(content='', additional_kwargs={}, response_metadata={'token_usage': {'completion_tokens': 29, 'prompt_tokens': 381, 'total_tokens': 410, 'completion_time': 0.105454545, 'prompt_time': 0.031428412, 'queue_time': 0.056579269, 'total_time': 0.136882957}, 'model_name': 'deepseek-r1-distill-llama-70b', 'system_fingerprint': 'fp_1bbe7845ec', 'finish_reason': 'stop', 'logprobs': None}, id='run--7d74e8ef-e77f-424f-866e-3576662d09f3-0', usage_metadata={'input_tokens': 381, 'output_tokens': 29, 'total_tokens': 410})]},\n",
       " 'pending_sends': []}"
      ]
     },
     "execution_count": 196,
     "metadata": {},
     "output_type": "execute_result"
    }
   ],
   "source": [
    "memory.get(config)"
   ]
  },
  {
   "cell_type": "code",
   "execution_count": 197,
   "id": "0e36fcf2",
   "metadata": {},
   "outputs": [],
   "source": [
    "events=app4.stream(\n",
    "    {\"messages\":[\"in which city the temp was 25 degree?\"]},config=config,stream_mode=\"values\"\n",
    "    )"
   ]
  },
  {
   "cell_type": "code",
   "execution_count": 198,
   "id": "01a189a5",
   "metadata": {},
   "outputs": [
    {
     "name": "stdout",
     "output_type": "stream",
     "text": [
      "================================\u001b[1m Human Message \u001b[0m=================================\n",
      "\n",
      "in which city the temp was 25 degree?\n",
      "==================================\u001b[1m Ai Message \u001b[0m==================================\n",
      "\n",
      "The city where the temperature was 25 degrees is **Indore**.\n"
     ]
    }
   ],
   "source": [
    "for event in events:\n",
    "    event[\"messages\"][-1].pretty_print()"
   ]
  },
  {
   "cell_type": "code",
   "execution_count": 199,
   "id": "c69e8480",
   "metadata": {},
   "outputs": [
    {
     "data": {
      "text/plain": [
       "{'v': 3,\n",
       " 'ts': '2025-06-14T05:43:58.859647+00:00',\n",
       " 'id': '1f048e29-1740-6efe-800f-e46aa6319ec4',\n",
       " 'channel_versions': {'__start__': '00000000000000000000000000000016.0.4268705610643684',\n",
       "  'messages': '00000000000000000000000000000017.0.702509649584532',\n",
       "  'branch:to:llmwithtool': '00000000000000000000000000000017.0.41532138018550335',\n",
       "  'branch:to:mytools': '00000000000000000000000000000013.0.9761122505314639'},\n",
       " 'versions_seen': {'__input__': {},\n",
       "  '__start__': {'__start__': '00000000000000000000000000000015.0.6664132989990882'},\n",
       "  'llmwithtool': {'branch:to:llmwithtool': '00000000000000000000000000000016.0.5325683866610978'},\n",
       "  'mytools': {'branch:to:mytools': '00000000000000000000000000000012.0.7239732522974757'}},\n",
       " 'channel_values': {'messages': [HumanMessage(content='what is a weather in new delhi?', additional_kwargs={}, response_metadata={}, id='e4d2735a-46f0-46c0-b33f-81d443eb29ff'),\n",
       "   AIMessage(content='', additional_kwargs={'tool_calls': [{'id': 'xjznn9vkf', 'function': {'arguments': '{\"query\":\"weather in New Delhi\"}', 'name': 'search'}, 'type': 'function'}]}, response_metadata={'token_usage': {'completion_tokens': 216, 'prompt_tokens': 134, 'total_tokens': 350, 'completion_time': 0.855256316, 'prompt_time': 0.008550172, 'queue_time': 0.056179082, 'total_time': 0.863806488}, 'model_name': 'deepseek-r1-distill-llama-70b', 'system_fingerprint': 'fp_1bbe7845ec', 'finish_reason': 'tool_calls', 'logprobs': None}, id='run--b547822e-ca01-445b-b7a2-b0b0c01425bf-0', tool_calls=[{'name': 'search', 'args': {'query': 'weather in New Delhi'}, 'id': 'xjznn9vkf', 'type': 'tool_call'}], usage_metadata={'input_tokens': 134, 'output_tokens': 216, 'total_tokens': 350}),\n",
       "   ToolMessage(content='the temp is 45 degree and sunny', name='search', id='95aaf2a4-7f28-4815-a28c-93598ab4579e', tool_call_id='xjznn9vkf'),\n",
       "   AIMessage(content='The weather in New Delhi is currently 45 degrees and sunny.', additional_kwargs={}, response_metadata={'token_usage': {'completion_tokens': 155, 'prompt_tokens': 194, 'total_tokens': 349, 'completion_time': 0.723916291, 'prompt_time': 0.011962524, 'queue_time': 0.054293826, 'total_time': 0.735878815}, 'model_name': 'deepseek-r1-distill-llama-70b', 'system_fingerprint': 'fp_1bbe7845ec', 'finish_reason': 'stop', 'logprobs': None}, id='run--693112f5-17e1-4754-a460-0678515c7532-0', usage_metadata={'input_tokens': 194, 'output_tokens': 155, 'total_tokens': 349}),\n",
       "   HumanMessage(content='what is a weather in indore?', additional_kwargs={}, response_metadata={}, id='414adb94-e58c-4925-a0ee-a02f0906c905'),\n",
       "   AIMessage(content='', additional_kwargs={'tool_calls': [{'id': '974yyz4yc', 'function': {'arguments': '{\"query\":\"weather in Indore\"}', 'name': 'search'}, 'type': 'function'}]}, response_metadata={'token_usage': {'completion_tokens': 199, 'prompt_tokens': 205, 'total_tokens': 404, 'completion_time': 1.05966076, 'prompt_time': 0.0201019, 'queue_time': 0.053634453000000006, 'total_time': 1.07976266}, 'model_name': 'deepseek-r1-distill-llama-70b', 'system_fingerprint': 'fp_1bbe7845ec', 'finish_reason': 'tool_calls', 'logprobs': None}, id='run--3abf5e8c-f3c7-4671-8c3d-755ea24eb10a-0', tool_calls=[{'name': 'search', 'args': {'query': 'weather in Indore'}, 'id': '974yyz4yc', 'type': 'tool_call'}], usage_metadata={'input_tokens': 205, 'output_tokens': 199, 'total_tokens': 404}),\n",
       "   ToolMessage(content='the temp is 25 degree and cloudy', name='search', id='67f89a12-5019-4d07-b44c-94faa5789636', tool_call_id='974yyz4yc'),\n",
       "   AIMessage(content='', additional_kwargs={'tool_calls': [{'id': 'z98ty8y88', 'function': {'arguments': '{\"query\":\"weather in Indore\"}', 'name': 'search'}, 'type': 'function'}]}, response_metadata={'token_usage': {'completion_tokens': 252, 'prompt_tokens': 263, 'total_tokens': 515, 'completion_time': 1.150754721, 'prompt_time': 0.023398012, 'queue_time': 0.05660427, 'total_time': 1.1741527330000001}, 'model_name': 'deepseek-r1-distill-llama-70b', 'system_fingerprint': 'fp_1bbe7845ec', 'finish_reason': 'tool_calls', 'logprobs': None}, id='run--0ce62b63-2c88-43de-9855-6a28f8464a5b-0', tool_calls=[{'name': 'search', 'args': {'query': 'weather in Indore'}, 'id': 'z98ty8y88', 'type': 'tool_call'}], usage_metadata={'input_tokens': 263, 'output_tokens': 252, 'total_tokens': 515}),\n",
       "   ToolMessage(content='the temp is 25 degree and cloudy', name='search', id='57539ac3-9682-4275-a990-8ba45feb5a58', tool_call_id='z98ty8y88'),\n",
       "   AIMessage(content='', additional_kwargs={'tool_calls': [{'id': 'cv0da6bnz', 'function': {'arguments': '{\"query\":\"weather in Indore\"}', 'name': 'search'}, 'type': 'function'}]}, response_metadata={'token_usage': {'completion_tokens': 215, 'prompt_tokens': 322, 'total_tokens': 537, 'completion_time': 0.883681944, 'prompt_time': 0.020288997, 'queue_time': 0.05629224599999999, 'total_time': 0.903970941}, 'model_name': 'deepseek-r1-distill-llama-70b', 'system_fingerprint': 'fp_1bbe7845ec', 'finish_reason': 'tool_calls', 'logprobs': None}, id='run--1e8ef6c5-44f3-4ce0-82fb-e68e1fd8d50f-0', tool_calls=[{'name': 'search', 'args': {'query': 'weather in Indore'}, 'id': 'cv0da6bnz', 'type': 'tool_call'}], usage_metadata={'input_tokens': 322, 'output_tokens': 215, 'total_tokens': 537}),\n",
       "   ToolMessage(content='the temp is 25 degree and cloudy', name='search', id='8cef00de-7209-4a37-8652-76d96c27d899', tool_call_id='cv0da6bnz'),\n",
       "   AIMessage(content='', additional_kwargs={}, response_metadata={'token_usage': {'completion_tokens': 29, 'prompt_tokens': 381, 'total_tokens': 410, 'completion_time': 0.105454545, 'prompt_time': 0.031428412, 'queue_time': 0.056579269, 'total_time': 0.136882957}, 'model_name': 'deepseek-r1-distill-llama-70b', 'system_fingerprint': 'fp_1bbe7845ec', 'finish_reason': 'stop', 'logprobs': None}, id='run--7d74e8ef-e77f-424f-866e-3576662d09f3-0', usage_metadata={'input_tokens': 381, 'output_tokens': 29, 'total_tokens': 410}),\n",
       "   HumanMessage(content='in which city the temp was 25 degree?', additional_kwargs={}, response_metadata={}, id='88639dc5-3776-456e-979a-dd03e36148f6'),\n",
       "   AIMessage(content='The city where the temperature was 25 degrees is **Indore**.', additional_kwargs={}, response_metadata={'token_usage': {'completion_tokens': 452, 'prompt_tokens': 394, 'total_tokens': 846, 'completion_time': 2.3571860239999998, 'prompt_time': 0.02653647, 'queue_time': 0.05225398, 'total_time': 2.383722494}, 'model_name': 'deepseek-r1-distill-llama-70b', 'system_fingerprint': 'fp_1bbe7845ec', 'finish_reason': 'stop', 'logprobs': None}, id='run--7090b21c-84f7-48fa-bd83-6713cdac98ec-0', usage_metadata={'input_tokens': 394, 'output_tokens': 452, 'total_tokens': 846})]},\n",
       " 'pending_sends': []}"
      ]
     },
     "execution_count": 199,
     "metadata": {},
     "output_type": "execute_result"
    }
   ],
   "source": [
    "memory.get(config)"
   ]
  },
  {
   "cell_type": "code",
   "execution_count": null,
   "id": "c7967618",
   "metadata": {},
   "outputs": [],
   "source": []
  }
 ],
 "metadata": {
  "kernelspec": {
   "display_name": "Python 3",
   "language": "python",
   "name": "python3"
  },
  "language_info": {
   "codemirror_mode": {
    "name": "ipython",
    "version": 3
   },
   "file_extension": ".py",
   "mimetype": "text/x-python",
   "name": "python",
   "nbconvert_exporter": "python",
   "pygments_lexer": "ipython3",
   "version": "3.10.16"
  }
 },
 "nbformat": 4,
 "nbformat_minor": 5
}
